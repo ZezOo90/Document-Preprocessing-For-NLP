{
  "cells": [
    {
      "cell_type": "code",
      "execution_count": 1,
      "metadata": {
        "id": "PnYtoRuR8PsU"
      },
      "outputs": [],
      "source": [
        "import nltk\n",
        "from nltk.tokenize import word_tokenize\n",
        "from nltk.stem import PorterStemmer, WordNetLemmatizer\n",
        "from nltk.corpus import stopwords\n",
        "import re\n",
        "import requests\n",
        "from bs4 import BeautifulSoup\n",
        "import numpy as np"
      ]
    },
    {
      "cell_type": "code",
      "execution_count": 2,
      "metadata": {
        "colab": {
          "base_uri": "https://localhost:8080/"
        },
        "id": "dBj2aaDR89zs",
        "outputId": "b36dee50-e150-4aa2-edaf-81dba199345a"
      },
      "outputs": [
        {
          "name": "stderr",
          "output_type": "stream",
          "text": [
            "[nltk_data] Downloading package punkt to /root/nltk_data...\n",
            "[nltk_data]   Unzipping tokenizers/punkt.zip.\n",
            "[nltk_data] Downloading package stopwords to /root/nltk_data...\n",
            "[nltk_data]   Unzipping corpora/stopwords.zip.\n",
            "[nltk_data] Downloading package wordnet to /root/nltk_data...\n"
          ]
        },
        {
          "data": {
            "text/plain": [
              "True"
            ]
          },
          "execution_count": 2,
          "metadata": {},
          "output_type": "execute_result"
        }
      ],
      "source": [
        "# Download NLTK resources\n",
        "nltk.download('punkt')\n",
        "nltk.download('stopwords')\n",
        "nltk.download('wordnet')\n"
      ]
    },
    {
      "cell_type": "code",
      "execution_count": 3,
      "metadata": {
        "id": "fkqrwybCHFLC"
      },
      "outputs": [],
      "source": [
        "def clean_data_text(data):\n",
        "    # Normalization\n",
        "    cleaned_data = re.sub(r'[^a-zA-Z\\s]', '', data)\n",
        "    #Tokonization\n",
        "    tokonizes=nltk.word_tokenize(cleaned_data.lower())\n",
        "    #Remove stopwords\n",
        "    stop_words = set(stopwords.words('english'))\n",
        "    tokens = [word for word in tokonizes if word not in stop_words]\n",
        "    #stemming\n",
        "    stemer=PorterStemmer()\n",
        "    stemer_words=[stemer.stem(word) for word in tokens]\n",
        "    \n",
        "    lematizer=WordNetLemmatizer()\n",
        "    lematizer_words=[lematizer.lemmatize(word) for word in tokonizes]\n",
        "\n",
        "    unique_words=list(set(stemer_words))\n",
        "\n",
        "    return unique_words"
      ]
    },
    {
      "cell_type": "code",
      "execution_count": null,
      "metadata": {
        "id": "okXlU6i_9YYt"
      },
      "outputs": [],
      "source": [
        "def extract_text_from_html(url):\n",
        "    # Extract HTML from URL\n",
        "    response = requests.get(url)\n",
        "    html = response.text\n",
        "\n",
        "    # Extract text from HTML\n",
        "    soup = BeautifulSoup(html, 'html.parser')\n",
        "    text = \"\"\n",
        "    for paragraph in soup.find_all(['p', 'h1', 'h2', 'h3', 'h4', 'h5', 'h6']):\n",
        "        text += paragraph.get_text() + \" \"\n",
        "    return text"
      ]
    },
    {
      "cell_type": "code",
      "execution_count": 4,
      "metadata": {
        "id": "ZHMdMJ2C9IdV"
      },
      "outputs": [],
      "source": [
        "def get_unique_words(tokens):\n",
        "    return list(set(tokens))"
      ]
    },
    {
      "cell_type": "code",
      "execution_count": null,
      "metadata": {
        "colab": {
          "base_uri": "https://localhost:8080/"
        },
        "id": "OdvffwRO9peG",
        "outputId": "82f1ea75-350a-49f5-80f6-2fb88cd2bfe8"
      },
      "outputs": [
        {
          "name": "stdout",
          "output_type": "stream",
          "text": [
            "html text: Contents Python (programming language) \n",
            " Python is a high-level, general-purpose programming language. Its design philosophy emphasizes code readability with the use of significant indentation.[31]\n",
            " Python is dynamically typed and garbage-collected. It supports multiple programming paradigms, including structured (particularly procedural), object-oriented and functional programming. It is often described as a \"batteries included\" language due to its comprehensive standard library.[32][33]\n",
            " Guido van Rossum began working on Python in the late 1980s as a successor to the ABC programming language and first released it in 1991 as Python 0.9.0.[34] Python 2.0 was released in 2000. Python 3.0, released in 2008, was a major revision not completely backward-compatible with earlier versions. Python 2.7.18, released in 2020, was the last release of Python 2.[35]\n",
            " Python consistently ranks as one of the most popular programming languages, and has gained widespread use in the machine learning community.[36][37][38][39]\n",
            " History[edit] Python was conceived in the late 1980s[40] by Guido van Rossum at Centrum Wiskunde & Informatica (CWI) in the Netherlands as a successor to the ABC programming language, which was inspired by SETL,[41] capable of exception handling and interfacing with the Amoeba operating system.[10] Its implementation began in December 1989.[42] Van Rossum shouldered sole responsibility for the project, as the lead developer, until 12 July 2018, when he announced his \"permanent vacation\" from his responsibilities as Python's \"benevolent dictator for life\", a title the Python community bestowed upon him to reflect his long-term commitment as the project's chief decision-maker.[43] In January 2019, active Python core developers elected a five-member Steering Council to lead the project.[44][45]\n",
            " Python 2.0 was released on 16 October 2000, with many major new features such as list comprehensions, cycle-detecting garbage collection, reference counting, and Unicode support.[46] Python 3.0, released on 3 December 2008, with many of its major features backported to Python 2.6.x[47] and 2.7.x. Releases of Python 3 include the 2to3 utility, which automates the translation of Python 2 code to Python 3.[48]\n",
            " Python 2.7's end-of-life was initially set for 2015, then postponed to 2020 out of concern that a large body of existing code could not easily be forward-ported to Python 3.[49][50] No further security patches or other improvements will be released for it.[51][52] Currently only 3.8 and later are supported (2023 security issues were fixed in e.g. 3.7.17, the final 3.7.x release[53]). While Python 2.7 and older is officially unsupported, a different unofficial Python implementation, PyPy, continues to support Python 2, i.e. \"2.7.18+\" (plus 3.9 and 3.10), with the plus meaning (at least some) \"backported security updates\".[54]\n",
            " In 2021 (and again twice in 2022), security updates were expedited, since all Python versions were insecure (including 2.7[55]) because of security issues leading to possible remote code execution[56] and web-cache poisoning.[57] In 2022, Python 3.10.4 and 3.9.12 were expedited[58] and 3.8.13, because of many security issues.[59] When Python 3.9.13 was released in May 2022, it was announced that the 3.9 series (joining the older series 3.8 and 3.7) would only receive security fixes in the future.[60] On 7 September 2022, four new releases were made due to a potential denial-of-service attack: 3.10.7, 3.9.14, 3.8.14, and 3.7.14.[61][62]\n",
            " As of October 2023,[update] Python 3.12 is the stable release, and 3.12 and 3.11 are the only versions with active (as opposed to just security) support. Notable changes in 3.11 from 3.10 include increased program execution speed and improved error reporting.[63]\n",
            " Python 3.12 adds syntax (and in fact every Python since at least 3.5 adds some syntax) to the language, the new (soft) keyword type (recent releases have added a lot of typing support e.g. new type union operator in 3.10), and 3.11 for exception handling, and 3.10 the match and case (soft) keywords, for structural pattern matching statements. Python 3.12 also drops outdated modules and functionality, and future versions will too, see below in Development section.\n",
            " Python 3.11 claims to be between 10 and 60% faster than Python 3.10, and Python 3.12 adds another 5% on top of that. It also has improved error messages, and many other changes.\n",
            " Since 27 June 2023[update], Python 3.8 is the oldest supported version of Python (albeit in the 'security support' phase), due to Python 3.7 reaching end-of-life.[64]\n",
            " Design philosophy and features[edit] Python is a multi-paradigm programming language. Object-oriented programming and structured programming are fully supported, and many of their features support functional programming and aspect-oriented programming (including metaprogramming[65] and metaobjects).[66] Many other paradigms are supported via extensions, including design by contract[67][68] and logic programming.[69]\n",
            " Python uses dynamic typing and a combination of reference counting and a cycle-detecting garbage collector for memory management.[70] It uses dynamic name resolution (late binding), which binds method and variable names during program execution.\n",
            " Its design offers some support for functional programming in the Lisp tradition. It has filter,mapandreduce functions; list comprehensions, dictionaries, sets, and generator expressions.[71] The standard library has two modules (itertools and functools) that implement functional tools borrowed from Haskell and Standard ML.[72]\n",
            " Its core philosophy is summarized in the Zen of Python (PEP 20), which includes aphorisms such as:[73]\n",
            " However, Python features regularly violate these principles and received criticism for adding unnecessary language bloat.[74][75] Responses to these criticisms are that the Zen of Python is a guideline rather than a rule.[76] New features has been so controversial that Guido van Rossum resigned as Benevolent Dictator for Life following vitriol over the addition of the assignment expression operator in Python 3.8.[77][78]\n",
            " Nevertheless, rather than building all of its functionality into its core, Python was designed to be highly extensible via modules. This compact modularity has made it particularly popular as a means of adding programmable interfaces to existing applications. Van Rossum's vision of a small core language with a large standard library and easily extensible interpreter stemmed from his frustrations with ABC, which espoused the opposite approach.[40]\n",
            " Python claims to strive for a simpler, less-cluttered syntax and grammar while giving developers a choice in their coding methodology. In contrast to Perl's \"there is more than one way to do it\" motto, Python embraces a \"there should be one—and preferably only one—obvious way to do it.\"  philosophy.[73] In practice, however, Python provides many ways to achieve the same task. There are, for example, at least three ways to format a string literal, with no certainty as to which one a programmer should use.[79] Alex Martelli, a Fellow at the Python Software Foundation and Python book author, wrote: \"To describe something as 'clever' is not considered a compliment in the Python culture.\"[80]\n",
            " Python's developers usually strive to avoid premature optimization and reject patches to non-critical parts of the CPython reference implementation that would offer marginal increases in speed at the cost of clarity.[81] Execution speed can be improved by moving speed-critical functions to extension modules written in languages such as C, or by using a just-in-time compiler like PyPy. It is also possible to cross-compile to other languages, but it either doesn't provide the full speed-up that might be expected, since Python is a very dynamic language, or a restricted subset of Python is compiled, and possibly semantics are slightly changed.[82]\n",
            " Python's developers aim for it to be fun to use. This is reflected in its name—a tribute to the British comedy group Monty Python[83]—and in occasionally playful approaches to tutorials and reference materials, such as the use of the terms \"spam\" and \"eggs\" (a reference to a Monty Python sketch) in examples, instead of the often-used \"foo\" and \"bar\".[84][85]A common neologism in the Python community is pythonic, which has a wide range of meanings related to program style. \"Pythonic\" code may use Python idioms well, be natural or show fluency in the language, or conform with Python's minimalist philosophy and emphasis on readability. Code that is difficult to understand or reads like a rough transcription from another programming language is called unpythonic.[86][87]\n",
            " Syntax and semantics[edit] Python is meant to be an easily readable language. Its formatting is visually uncluttered and often uses English keywords where other languages use punctuation. Unlike many other languages, it does not use curly brackets to delimit blocks, and semicolons after statements are allowed but rarely used. It has fewer syntactic exceptions and special cases than C or Pascal.[88]\n",
            " Indentation[edit] Python uses whitespace indentation, rather than curly brackets or keywords, to delimit blocks. An increase in indentation comes after certain statements; a decrease in indentation signifies the end of the current block.[89] Thus, the program's visual structure accurately represents its semantic structure.[90] This feature is sometimes termed the off-side rule. Some other languages use indentation this way; but in most, indentation has no semantic meaning. The recommended indent size is four spaces.[91]\n",
            " Statements and control flow[edit] Python's statements include:\n",
            " The assignment statement (=) binds a name as a reference to a separate, dynamically allocated object. Variables may subsequently be rebound at any time to any object. In Python, a variable name is a generic reference holder without a fixed data type; however, it always refers to some object with a type. This is called dynamic typing—in contrast to statically-typed languages, where each variable may contain only a value of a certain type.\n",
            " Python does not support tail call optimization or first-class continuations, and, according to Van Rossum, it never will.[94][95] However, better support for coroutine-like functionality is provided by extending Python's generators.[96] Before 2.5, generators were lazy iterators; data was passed unidirectionally out of the generator. From Python 2.5 on, it is possible to pass data back into a generator function; and from version 3.3, it can be passed through multiple stack levels.[97]\n",
            " Expressions[edit] Python's expressions include:\n",
            " In Python, a distinction between expressions and statements is rigidly enforced, in contrast to languages such as Common Lisp, Scheme, or Ruby. This leads to duplicating some functionality. For example:\n",
            " Statements cannot be a part of an expression—so list and other comprehensions or lambda expressions, all being expressions, cannot contain statements. A particular case is that an assignment statement such as a = 1 cannot form part of the conditional expression of a conditional statement. This has the advantage of avoiding a classic C error of mistaking an assignment operator = for an equality operator == in conditions: if (c = 1) { ... } is syntactically valid (but probably unintended) C code, but if c = 1: ... causes a syntax error in Python.\n",
            " Methods[edit] Methods on objects are functions attached to the object's class; the syntax instance.method(argument) is, for normal methods and functions, syntactic sugar for Class.method(instance, argument). Python methods have an explicit self parameter to access instance data, in contrast to the implicit self (or this) in some other object-oriented programming languages (e.g., C++, Java, Objective-C, Ruby).[106] Python also provides methods, often called dunder methods (due to their names beginning and ending with double-underscores), to allow user-defined classes to modify how they are handled by native operations including length, comparison, in arithmetic operations and type conversion.[107]\n",
            " Typing[edit] Python uses duck typing and has typed objects but untyped variable names. Type constraints are not checked at compile time; rather, operations on an object may fail, signifying that it is not of a suitable type. Despite being dynamically typed, Python is strongly typed, forbidding operations that are not well-defined (for example, adding a number to a string) rather than silently attempting to make sense of them.\n",
            " Python allows programmers to define their own types using classes, most often used for object-oriented programming. New instances of classes are constructed by calling the class (for example, SpamClass() or EggsClass()), and the classes are instances of the metaclass type (itself an instance of itself), allowing metaprogramming and reflection.\n",
            " Before version 3.0, Python had two kinds of classes (both using the same syntax): old-style and new-style,[108] current Python versions only support the semantics new style.\n",
            " Python supports optional type annotations.[4][109] These annotations are not enforced by the language, but may be used by external tools such as mypy to catch errors.[110][111] Mypy also supports a Python compiler called mypyc, which leverages type annotations for optimization.[112]\n",
            " 1.33333\n",
            " Arithmetic operations[edit] Python has the usual symbols for arithmetic operators (+, -, *, /), the floor division operator // and the modulo operation % (where the remainder can be negative,  e.g. 4 % -3 == -2). It also has ** for exponentiation, e.g. 5**3 == 125 and 9**0.5 == 3.0, and a matrix‑multiplication operator @ .[116] These operators work like in traditional math; with the same precedence rules, the operators infix (+ and - can also be unary to represent positive and negative numbers respectively).\n",
            " The division between integers produces floating-point results. The behavior of division has changed significantly over time:[117]\n",
            " In Python terms, / is true division (or simply division), and // is floor division. / before version 3.0 is classic division.[117]\n",
            " Rounding towards negative infinity, though different from most languages, adds consistency. For instance, it means that the equation (a + b)//b == a//b + 1 is always true. It also means that the equation b*(a//b) + a%b == a is valid for both positive and negative values of a. However, maintaining the validity of this equation means that while the result of a%b is, as expected, in the half-open interval [0, b), where b is a positive integer, it has to lie in the interval (b, 0] when b is negative.[118]\n",
            " Python provides a round function for rounding a float to the nearest integer. For tie-breaking, Python 3 uses round to even: round(1.5) and round(2.5) both produce 2.[119] Versions before 3 used round-away-from-zero: round(0.5) is 1.0, round(-0.5) is −1.0.[120]\n",
            " Python allows Boolean expressions with multiple equality relations in a manner that is consistent with general use in mathematics. For example, the expression a < b < c tests whether a is less than b and b is less than c.[121] C-derived languages interpret this expression differently: in C, the expression would first evaluate a < b, resulting in 0 or 1, and that result would then be compared with c.[122]\n",
            " Python uses arbitrary-precision arithmetic for all integer operations. The Decimal type/class in the decimal module provides decimal floating-point numbers to a pre-defined arbitrary precision and several rounding modes.[123] The Fraction class in the fractions module provides arbitrary precision for rational numbers.[124]\n",
            " Due to Python's extensive mathematics library, and the third-party library NumPy that further extends the native capabilities, it is frequently used as a scientific scripting language to aid in problems such as numerical data processing and manipulation.[125][126]\n",
            " Programming examples[edit] \"Hello, World!\" program:\n",
            " Program to calculate the factorial of a positive integer:\n",
            " Libraries[edit] Python's large standard library[127] provides tools suited to many tasks and is commonly cited as one of its greatest strengths. For Internet-facing applications, many standard formats and protocols such as MIME and HTTP are supported. It includes modules for creating graphical user interfaces, connecting to relational databases, generating pseudorandom numbers, arithmetic with arbitrary-precision decimals,[123] manipulating regular expressions, and unit testing.\n",
            " Some parts of the standard library are covered by specifications—for example, the Web Server Gateway Interface (WSGI) implementation wsgiref follows PEP 333[128]—but most are specified by their code, internal documentation, and test suites. However, because most of the standard library is cross-platform Python code, only a few modules need altering or rewriting for variant implementations.\n",
            " As of 17 March 2024,[update] the Python Package Index (PyPI), the official repository for third-party Python software, contains over 523,000[129] packages with a wide range of functionality, including:\n",
            " Development environments[edit] Most Python implementations (including CPython) include a read–eval–print loop (REPL), permitting them to function as a command line interpreter for which users enter statements sequentially and receive results immediately.\n",
            " Python also comes with an Integrated development environment (IDE) called IDLE, which is more beginner-oriented.\n",
            " Other shells, including IDLE and IPython, add further abilities such as improved auto-completion, session state retention, and syntax highlighting.\n",
            " As well as standard desktop integrated development environments including PyCharm, IntelliJ Idea, Visual Studio Code etc, there are web browser-based IDEs, including SageMath, for developing science- and math-related programs; PythonAnywhere, a browser-based IDE and hosting environment; and Canopy IDE, a commercial IDE emphasizing scientific computing.[130]\n",
            " Implementations[edit] Reference implementation[edit] CPython is the reference implementation of Python. It is written in C, meeting the C89 standard (Python 3.11 uses C11[131]) with several select C99 features. CPython includes its own C extensions, but third-party extensions are not limited to older C versions—e.g. they can be implemented with C11 or C++.[132][133]) It compiles Python programs into an intermediate bytecode[134] which is then executed by its virtual machine.[135] CPython is distributed with a large standard library written in a mixture of C and native Python, and is available for many platforms, including Windows (starting with Python 3.9, the Python installer deliberately fails to install on Windows 7 and 8;[136][137] Windows XP was supported until Python 3.5) and most modern Unix-like systems, including macOS (and Apple M1 Macs, since Python 3.9.1, with experimental installer) and unofficial support for e.g. VMS.[138] Platform portability was one of its earliest priorities.[139] (During Python 1 and 2 development, even OS/2 and Solaris were supported,[140] but support has since been dropped for many platforms.)\n",
            " Other implementations[edit] Unsupported implementations[edit] Other just-in-time Python compilers have been developed, but are now unsupported:\n",
            " Cross-compilers to other languages[edit] There are several compilers/transpilers to high-level object languages, with either unrestricted Python, a restricted subset of Python, or a language similar to Python as the source language:\n",
            " Specialized:\n",
            " Older projects (or not to be used with Python 3.x and latest syntax):\n",
            " Performance[edit] Performance comparison of various Python implementations on a non-numerical (combinatorial) workload was presented at EuroSciPy '13.[168] Python's performance compared to other programming languages is also benchmarked by The Computer Language Benchmarks Game.[169]\n",
            " Development[edit] Python's development is conducted largely through the Python Enhancement Proposal (PEP) process, the primary mechanism for proposing major new features, collecting community input on issues, and documenting Python design decisions.[170] Python coding style is covered in PEP 8.[171] Outstanding PEPs are reviewed and commented on by the Python community and the steering council.[170]\n",
            " Enhancement of the language corresponds with the development of the CPython reference implementation. The mailing list python-dev is the primary forum for the language's development. Specific issues were originally discussed in the Roundup bug tracker hosted at by the foundation.[172] In 2022, all issues and discussions were migrated to GitHub.[173] Development originally took place on a self-hosted source-code repository running Mercurial, until Python moved to GitHub in January 2017.[174]\n",
            " CPython's public releases come in three types, distinguished by which part of the version number is incremented:\n",
            " Many alpha, beta, and release-candidates are also released as previews and for testing before final releases. Although there is a rough schedule for each release, they are often delayed if the code is not ready. Python's development team monitors the state of the code by running the large unit test suite during development.[180]\n",
            " The major academic conference on Python is PyCon. There are also special Python mentoring programs, such as PyLadies.\n",
            " Python 3.12 removed wstr meaning Python extensions[181] need to be modified,[182] and 3.10 added pattern matching to the language.[183]\n",
            " Python 3.12 dropped some outdated modules, and more will be dropped in the future, deprecated as of 3.13; already deprecated array 'u' format code will emit DeprecationWarning since 3.13 and will be removed in Python 3.16. The 'w' format code should be used instead. Part of ctypes is also deprecated and http.server.CGIHTTPRequestHandler will emit a DeprecationWarning, and will be removed in 3.15. Using that code already has a high potential for both security and functionality bugs. Parts of the typing module are deprecated, e.g. creating a typing.NamedTuple class using keyword arguments to denote the fields and such (and more) will be disallowed in Python 3.15.\n",
            " API documentation generators[edit] Tools that can generate documentation for Python API include pydoc (available as part of the standard library), Sphinx, Pdoc and its forks, Doxygen and Graphviz, among others.[184]\n",
            " Naming[edit] Python's name is derived from the British comedy group Monty Python, whom Python creator Guido van Rossum enjoyed while developing the language. Monty Python references appear frequently in Python code and culture;[185] for example, the metasyntactic variables often used in Python literature are spam and eggs instead of the traditional foo and bar.[185][186] The official Python documentation also contains various references to Monty Python routines.[187][188] Users of Python are sometimes referred to as \"Pythonistas\".[189]\n",
            " The prefix Py- is used to show that something is related to Python. Examples of the use of this prefix in names of Python applications or libraries include Pygame, a binding of SDL to Python (commonly used to create games); PyQt and PyGTK, which bind Qt and GTK to Python respectively; and PyPy, a Python implementation originally written in Python.\n",
            " Popularity[edit] Since 2003, Python has consistently ranked in the top ten most popular programming languages in the TIOBE Programming Community Index where as of December 2022[update] it was the most popular language (ahead of C, C++, and Java).[38] It was selected Programming Language of the Year (for \"the highest rise in ratings in a year\") in 2007, 2010, 2018, and 2020 (the only language to have done so four times as of 2020[update][190]).\n",
            " An empirical study found that scripting languages, such as Python, are more productive than conventional languages, such as C and Java, for programming problems involving string manipulation and search in a dictionary, and determined that memory consumption was often \"better than Java and not much worse than C or C++\".[191]\n",
            " Large organizations that use Python include Wikipedia, Google,[192] Yahoo!,[193] CERN,[194] NASA,[195] Facebook,[196] Amazon, Instagram,[197] Spotify,[198] and some smaller entities like ILM[199] and ITA.[200] The social news networking site Reddit was written mostly in Python.[201]\n",
            " Uses[edit] Python can serve as a scripting language for web applications, e.g. via mod_wsgi for the Apache webserver.[202] With Web Server Gateway Interface, a standard API has evolved to facilitate these applications. Web frameworks like Django, Pylons, Pyramid, TurboGears, web2py, Tornado, Flask, Bottle, and Zope support developers in the design and maintenance of complex applications. Pyjs and IronPython can be used to develop the client-side of Ajax-based applications. SQLAlchemy can be used as a data mapper to a relational database. Twisted is a framework to program communications between computers, and is used (for example) by Dropbox.\n",
            " Libraries such as NumPy, SciPy and Matplotlib allow the effective use of Python in scientific computing,[203][204] with specialized libraries such as Biopython and Astropy providing domain-specific functionality. SageMath is a computer algebra system with a notebook interface programmable in Python: its library covers many aspects of mathematics, including algebra, combinatorics, numerical mathematics, number theory, and calculus.[205] OpenCV has Python bindings with a rich set of features for computer vision and image processing.[206]\n",
            " Python is commonly used in artificial intelligence projects and machine learning projects with the help of libraries like TensorFlow, Keras, Pytorch, scikit-learn and the Logic language ProbLog.[207][208][209][210][211] As a scripting language with a modular architecture, simple syntax, and rich text processing tools, Python is often used for natural language processing.[212]\n",
            " The combination of Python and Prolog has proved to be particularly useful for AI applications, with Prolog providing knowledge representation and reasoning capablities. The Janus system, in particular, exploits the similarites between these two languages,\n",
            "in part because of their use of dynamic typing, and the simple recursive nature of their\n",
            "data structures. Typical applications of this combination include  natural language processing, visual query\n",
            "answering, geospatial reasoning, and handling of semantic web data.[213][214]\n",
            "The Natlog system, implemented in Python, uses Definite Clause Grammars (DCGs) as prompt generators for text-to-text generators like GPT3 and text-to-image generators like DALL-E or Stable Diffusion.[215]\n",
            " Python can also be used for graphical user interface (GUI) by using libraries like Tkinter.[216][217]\n",
            " Python can also be used to create games, with libraries such as Pygame, which can make 2D games.\n",
            " Python has been successfully embedded in many software products as a scripting language, including in finite element method software such as Abaqus, 3D parametric modelers like FreeCAD, 3D animation packages such as 3ds Max, Blender, Cinema 4D, Lightwave, Houdini, Maya, modo, MotionBuilder, Softimage, the visual effects compositor Nuke, 2D imaging programs like GIMP,[218] Inkscape, Scribus and Paint Shop Pro,[219] and musical notation programs like scorewriter and capella. GNU Debugger uses Python as a pretty printer to show complex structures such as C++ containers. Esri promotes Python as the best choice for writing scripts in ArcGIS.[220] It has also been used in several video games,[221][222] and has been adopted as first of the three available programming languages in Google App Engine, the other two being Java and Go.[223]\n",
            " Many operating systems include Python as a standard component. It ships with most Linux distributions,[224] AmigaOS 4 (using Python 2.7), FreeBSD (as a package), NetBSD, and OpenBSD (as a package) and can be used from the command line (terminal). Many Linux distributions use installers written in Python: Ubuntu uses the Ubiquity installer, while Red Hat Linux and Fedora Linux use the Anaconda installer. Gentoo Linux uses Python in its package management system, Portage.\n",
            " Python is used extensively in the information security industry, including in exploit development.[225][226]\n",
            " Most of the Sugar software for the One Laptop per Child XO, developed at Sugar Labs as of 2008[update], is written in Python.[227] The Raspberry Pi single-board computer project has adopted Python as its main user-programming language.\n",
            " LibreOffice includes Python and intends to replace Java with Python. Its Python Scripting Provider is a core feature[228] since Version 4.0 from 7 February 2013.\n",
            " Languages influenced by Python[edit] Python's design and philosophy have influenced many other programming languages:\n",
            " Python's development practices have also been emulated by other languages. For example, the practice of requiring a document describing the rationale for, and issues surrounding, a change to the language (in Python, a PEP) is also used in Tcl,[240] Erlang,[241] and Swift.[242]\n",
            " See also[edit] References[edit] Sources[edit] Further reading[edit] External links[edit] \n"
          ]
        }
      ],
      "source": [
        "# Example usage\n",
        "url = \"https://en.wikipedia.org/wiki/Python_(programming_language)\"\n",
        "html_text = extract_text_from_html(url)\n",
        "print(\"html text:\", html_text)"
      ]
    },
    {
      "cell_type": "code",
      "execution_count": null,
      "metadata": {
        "colab": {
          "base_uri": "https://localhost:8080/"
        },
        "id": "yIT9C_o_9-N0",
        "outputId": "7eaf5b4e-7d21-469f-ef03-c08e24342c28"
      },
      "outputs": [
        {
          "name": "stdout",
          "output_type": "stream",
          "text": [
            "Unique words: ['vision', 'avail', 'denialofservic', 'instead', 'lie', 'exist', 'platform', 'b', 'python', 'give', 'normal', 'commerci', 'gain', 'combinatori', 'cinema', 'februari', 'made', 'crossplatform', 'django', 'schedul', 'preced', 'rather', 'mapper', 'notebook', 'extens', 'alex', 'kind', 'equat', 'creator', 'per', 'elect', 'set', 'dynam', 'claus', 'metaprogram', 'dunder', 'mathemat', 'openbsd', 'messag', 'pythonedit', 'surround', 'receiv', 'retent', 'swift', 'best', 'case', 'revis', 'rank', 'choic', 'earlier', 'methodsedit', 'among', 'academ', 'readingedit', 'cover', 'outdat', 'rewrit', 'resolut', 'compon', 'team', 'queri', 'match', 'evolv', 'name', 'aid', 'term', 'silent', 'relat', 'tail', 'highest', 'much', 'alter', 'amoeba', 'pycharm', 'network', 'enter', 'fact', 'less', 'janu', 'valu', 'connect', 'compliment', 'easili', 'modifi', 'life', 'mostli', 'differ', 'curli', 'rubi', 'rise', 'support', 'pypi', 'problog', 'paradigm', 'bestow', 'time', 'field', 'tkinter', 'prematur', 'patch', 'style', 'ubiqu', 'shoulder', 'addit', 'object', 'site', 'main', 'commonli', 'announc', 'neolog', 'wsgiref', 'van', 'aim', 'monitor', 'contain', 'sourcesedit', 'although', 'scipi', 'summar', 'environ', 'prefix', 'mode', 'databas', 'block', 'last', 'termin', 'attempt', 'script', 'exponenti', 'build', 'book', 'size', 'halfopen', 'intellig', 'child', 'x', 'count', 'attack', 'syntax', 'strive', 'learn', 'informatica', 'capabl', 'mypyc', 'pseudorandom', 'debugg', 'specificationsfor', 'transcript', 'calculu', 'ab', 'combin', 'instanc', 'desktop', 'length', 'roundawayfromzero', 'aspect', 'inkscap', 'comment', 'simpli', 'function', 'conceiv', 'examplesedit', 'operationsedit', 'document', 'requir', 'setl', 'outstand', 'union', 'scribu', 'notat', 'wikipedia', 'due', 'duck', 'maintain', 'portag', 'took', 'studi', 'author', 'expect', 'offer', 'subsequ', 'googl', 'pep', 'whitespac', 'commun', 'generatorsedit', 'calcul', 'graphic', 'accord', 'pydoc', 'usesedit', 'imag', 'aspectori', 'albeit', 'hat', 'engin', 'util', 'exploit', 'wiskund', 'oftenus', 'manag', 'tornado', 'releas', 'group', 'deprec', 'rebound', 'distinguish', 'advantag', 'sagemath', 'lessclutt', 'phase', 'autom', 'clariti', 'program', 'algebra', 'programm', 'model', 'ipython', 'eggsclass', 'floatingpoint', 'unpython', 'sourcecod', 'compositor', 'standard', 'core', 'userprogram', 'march', 'unclutt', 'houdini', 'prove', 'nativ', 'write', 'precis', 'gener', 'class', 'repl', 'comparison', 'type', 'metaclass', 'pylon', 'fun', 'pass', 'nonnumer', 'mentor', 'help', 'doesnt', 'alway', 'manipul', 'c', 'separ', 'ad', 'historyedit', 'statement', 'frustrat', 'alreadi', 'procedur', 'arbitrari', 'data', 'reject', 'leverag', 'place', 'ahead', 'game', 'webpi', 'consist', 'assign', 'current', 'result', 'implicit', 'fraction', 'metaobject', 'grammar', 'performanceedit', 'instancemethodargu', 'session', 'limit', 'conduct', 'methodolog', 'effect', 'parametr', 'materi', 'ilm', 'kera', 'occasion', 'decis', 'librariesedit', 'array', 'collect', 'rossum', 'delay', 'forbid', 'float', 'numpi', 'app', 'larg', 'gtk', 'video', 'espous', 'probabl', 'provid', 'conform', 'pytorch', 'bb', 'clever', 'rang', 'boolean', 'increment', 'done', 'particularli', 'written', 'benchmark', 'bottl', 'signifi', 'modwsgi', 'critic', 'red', 'whether', 'sever', 'scheme', 'check', 'full', 'abc', 'perform', 'euroscipi', 'empir', 'modul', 'greatest', 'unit', 'symbol', 'three', 'common', 'vacat', 'present', 'sometim', 'softwar', 'protocol', 'top', 'w', 'evalu', 'continu', 'nasa', 'texttoimag', 'remaind', 'itertool', 'construct', 'batteri', 'vm', 'latest', 'system', 'primari', 'java', 'mime', 'reddit', 'unlik', 'may', 'cderiv', 'emphas', 'architectur', 'oper', 'cultur', 'instagram', 'idl', 'rational', 'floor', 'convers', 'arbitraryprecis', 'newstyl', 'successor', 'way', 'significantli', 'difficult', 'state', 'comput', 'element', 'typeclass', 'readevalprint', 'would', 'dall', 'stabl', 'also', 'explicit', 'migrat', 'facilit', 'forwardport', 'nevertheless', 'initi', 'numer', 'typic', 'complet', 'access', 'classic', 'pyj', 'dcg', 'controversi', 'could', 'factori', 'chang', 'one', 'consid', 'bytecod', 'end', 'window', 'avoid', 'exampl', 'namingedit', 'martelli', 'paint', 'erlang', 'speed', 'organ', 'june', 'expedit', 'natlog', 'contract', 'definit', 'simpler', 'singleboard', 'dropbox', 'garbagecollect', 'ide', 'pythonista', 'blender', 'pythondev', 'bracket', 'part', 'semicolon', 'extend', 'implementationsedit', 'select', 'popularityedit', 'determin', 'margin', 'yahoo', 'least', 'includ', 'via', 'languag', 'pyramid', 'eg', 'autocomplet', 'involv', 'posit', 'structur', 'linux', 'facebook', 'older', 'perman', 'adopt', 'arcgi', 'py', 'ita', 'certain', 'toward', 'principl', 'regular', 'search', 'propos', 'form', 'reason', 'compil', 'rich', 'prolog', 'error', 'represent', 'laptop', 'pretti', 'stack', 'wors', 'amigao', 'self', 'environmentsedit', 'steer', 'os', 'instal', 'perl', 'borrow', 'thu', 'unidirect', 'valid', 'tutori', 'mac', 'domainspecif', 'began', 'paramet', 'success', 'guido', 'combinator', 'similarit', 'method', 'spam', 'diffus', 'packag', 'sugar', 'deriv', 'execut', 'gui', 'applic', 'constraint', 'secur', 'behavior', 'need', 'product', 'intermedi', 'compilerstranspil', 'unari', 'found', 'howev', 'roundup', 'oneobvi', 'clientsid', 'graphviz', 'show', 'forum', 'haskel', 'holder', 'signific', 'guidelin', 'handl', 'possibl', 'increas', 'unoffici', 'beta', 'max', 'httpservercgihttprequesthandl', 'answer', 'project', 'inform', 'philosophi', 'wrote', 'sketch', 'better', 'bind', 'highlevel', 'generalpurpos', 'recent', 'multiparadigm', 'indentationedit', 'canopi', 'unicod', 'join', 'ds', 'offsid', 'ubuntu', 'backport', 'two', 'beginnerori', 'ration', 'similar', 'meant', 'abaqu', 'routin', 'go', 'smaller', 'optim', 'code', 'pygtk', 'oldest', 'logic', 'string', 'bar', 'webserv', 'alsoedit', 'u', 'music', 'achiev', 'intellij', 'except', 'develop', 'world', 'http', 'nearest', 'experiment', 'anaconda', 'gentoo', 'monti', 'fail', 'github', 'scienc', 'gpt', 'ml', 'syntact', 'cwi', 'fewer', 'creat', 'other', 'replac', 'claim', 'modern', 'command', 'hello', 'finit', 'version', 'functool', 'make', 'host', 'activ', 'preview', 'final', 'special', 'modulo', 'pygam', 'portabl', 'mypi', 'untyp', 'tool', 'convent', 'fedora', 'futur', 'xo', 'lab', 'divis', 'commit', 'gateway', 'crosscompil', 'readi', 'workload', 'even', 'typingnamedtupl', 'often', 'mechan', 'anoth', 'doxygen', 'maco', 'never', 'sens', 'catch', 'idiom', 'duplic', 'upon', 'particular', 'tcl', 'denot', 'libreoffic', 'seri', 'four', 'respect', 'dictionari', 'alloc', 'alpha', 'pythonanywher', 'opposit', 'bara', 'astropi', 'appear', 'texttotext', 'natur', 'highlight', 'design', 'machin', 'enforc', 'might', 'updat', 'etc', 'wstr', 'amazon', 'deprecationwarn', 'late', 'januari', 'caus', 'nuke', 'userdefin', 'objectori', 'memori', 'centrum', 'notabl', 'bug', 'minimalist', 'ie', 'tribut', 'garbag', 'doubleunderscor', 'despit', 'condit', 'read', 'compar', 'fivememb', 'though', 'play', 'integr', 'versionseg', 'scorewrit', 'octob', 'lot', 'iter', 'postpon', 'rough', 'visual', 'namea', 'compact', 'lambda', 'web', 'sequenti', 'immedi', 'mercuri', 'remov', 'ai', 'freecad', 'practic', 'slightli', 'argument', 'start', 'foo', 'mistak', 'esri', 'test', 'tensorflow', 'modo', 'netbsd', 'neg', 'bloat', 'see', 'decreas', 'zen', 'titl', 'specifi', 'mathrel', 'true', 'fulli', 'fellow', 'prompt', 'pyladi', 'emit', 'without', 'allow', 'soft', 'social', 'decemb', 'line', 'intend', 'pi', 'control', 'variou', 'lightwav', 'ten', 'level', 'metasyntact', 'mixtur', 'deliber', 'librari', 'keyword', 'unnecessari', 'mainten', 'fork', 'sqlalchemi', 'internetfac', 'option', 'usual', 'sole', 'use', 'virtual', 'complex', 'featur', 'developmentedit', 'popular', 'attach', 'plu', 'drop', 'sphinx', 'rigidli', 'cern', 'selfhost', 'tradit', 'multipl', 'first', 'violat', 'typingedit', 'sinc', 'thirdparti', 'implementationedit', 'repositori', 'resign', 'strongli', 'bab', 'new', 'browserbas', 'languagesedit', 'infix', 'emphasi', 'intern', 'gimp', 'disallow', 'news', 'egg', 'pattern', 'restrict', 'cite', 'content', 'strength', 'small', 'unintend', 'industri', 'embrac', 'confer', 'express', 'semant', 'highli', 'potenti', 'recommend', 'annot', 'embed', 'insecur', 'vitriol', 'council', 'add', 'comprehens', 'reach', 'list', 'ship', 'twist', 'mani', 'manner', 'everi', 'sdl', 'entiti', 'oneand', 'fluenci', 'accur', 'lazi', 'pyqt', 'ironpython', 'linksedit', 'semanticsedit', 'math', 'longterm', 'justintim', 'refer', 'motto', 'firstclass', 'anim', 'punctuat', 'opencv', 'rule', 'distribut', 'scientif', 'rare', 'inspir', 'respons', 'lead', 'stem', 'cpython', 'arithmet', 'call', 'interv', 'abil', 'simpl', 'studio', 'webcach', 'emul', 'expressionso', 'number', 'framework', 'releasecandid', 'describ', 'high', 'remot', 'staticallytyp', 'matrixmultipl', 'turbogear', 'gnu', 'pythonand', 'earliest', 'contrast', 'prefer', 'interfac', 'suitabl', 'shell', 'discuss', 'specif', 'equal', 'tracker', 'biopython', 'interpret', 'cycledetect', 'task', 'bodi', 'capella', 'backwardcompat', 'ctype', 'subset', 'idea', 'featuresedit', 'foundat', 'wsgi', 'motionbuild', 'flask', 'server', 'follow', 'round', 'origin', 'speedup', 'british', 'pro', 'approach', 'come', 'sourc', 'spotifi', 'classmethodinst', 'noncrit', 'pdoc', 'speedcrit', 'section', 'freebsd', 'maya', 'enjoy', 'knowledg', 'shop', 'literatur', 'translat', 'serv', 'tiob', 'appl', 'influenc', 'delimit', 'suit', 'review', 'correspond', 'decim', 'regularli', 'scikitlearn', 'unixlik', 'flowedit', 'enhanc', 'softimag', 'integ', 'improv', 'oldstyl', 'fix', 'collector', 'loop', 'ajaxbas', 'oppos', 'qt', 'twice', 'report', 'objectivec', 'septemb', 'expressionsedit', 'defin', 'mail', 'api', 'begin', 'geospati', 'typingin', 'concern', 'cost', 'decisionmak', 'unrestrict', 'variabl', 'pascal', 'welldefin', 'spamclass', 'user', 'xp', 'infin', 'back', 'consumpt', 'space', 'produc', 'widespread', 'index', 'apach', 'well', 'process', 'poison', 'frequent', 'theori', 'text', 'certainti', 'readabl', 'implement', 'public', 'netherland', 'tiebreak', 'benevol', 'predefin', 'variant', 'format', 'year', 'prioriti', 'english', 'aphor', 'chief', 'permit', 'run', 'rate', 'printer', 'indent', 'work', 'reflect', 'repres', 'input', 'lisp', 'faster', 'later', 'issu', 'offici', 'dictat', 'extern', 'major', 'zope', 'matplotlib', 'someth', 'unsupport', 'distinct', 'coroutinelik', 'juli', 'endoflif', 'raspberri', 'like', 'modular', 'understand', 'artifici', 'pycon', 'liter', 'move', 'filtermapandreduc', 'referencesedit', 'comedi', 'solari', 'meet', 'mean', 'recurs', 'wide', 'problem', 'promot', 'either']\n"
          ]
        }
      ],
      "source": [
        "unique_words = clean_data_text(html_text)\n",
        "print(\"Unique words:\", unique_words)"
      ]
    }
  ],
  "metadata": {
    "accelerator": "GPU",
    "colab": {
      "gpuType": "T4",
      "provenance": []
    },
    "kernelspec": {
      "display_name": "Python 3",
      "name": "python3"
    },
    "language_info": {
      "name": "python"
    }
  },
  "nbformat": 4,
  "nbformat_minor": 0
}
